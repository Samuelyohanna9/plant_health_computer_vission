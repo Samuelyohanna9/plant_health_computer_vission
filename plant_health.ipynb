
Plant Health Monitoring Project Results
Technique	Description	Result
🔍 Data Preprocessing	Handling missing values and anomalies	Improved data quality and model accuracy
🎯 Image Augmentation	Applying various augmentation techniques to increase dataset size	Enhanced model generalization and robustness
📊 Model Selection	Evaluating different architectures (CNN, ResNet, VGG) for disease classification	Identified the most accurate model for plant disease detection
⚙️ Hyperparameter Tuning	Optimizing model parameters for improved performance	Achieved higher precision and recall rates
🧠 Transfer Learning	Using pre-trained models for feature extraction	Facilitated efficient learning with limited data
Project Overview
The Plant Health Monitoring project aimed to develop an efficient deep learning model for the accurate classification of plant health based on leaf images. The project focused on identifying various diseases such as rust, scab, and multiple diseases affecting plant leaves. The main objectives and results are outlined below.

Project Objectives:
Data Preprocessing and Analysis:

Conducted comprehensive data preprocessing, including handling missing values and anomalies.
Analyzed key features and patterns in the dataset to understand the impact of different diseases on plant health.
Image Augmentation and Processing:

Implemented advanced image augmentation techniques to increase the dataset size and improve model generalization.
Processed images to enhance feature visibility and highlight disease-specific patterns for accurate classification.
Model Training and Evaluation:

Utilized various deep learning architectures such as CNN, ResNet, and VGG for disease classification.
Evaluated model performance using precision, recall, and F1-score to ensure reliable disease identification and classification.
Model Optimization and Deployment:

Optimized model parameters and hyperparameters to improve precision and recall rates.
Deployed the best-performing model for real-time disease identification and monitoring.
Data Set Description:
The dataset consisted of 10,000 images of plant leaves, categorized into four classes: healthy, multiple diseases, rust, and scab. Each image was of size 256x256 pixels.

Information	Details
Number of Images	10,000
Classes	Healthy, Multiple Diseases, Rust, Scab
Image Size	256x256 pixels
Project Steps:
Data Exploration and Preprocessing:

Conducted an in-depth analysis of the dataset, including handling missing values and preparing the images for model training.
Identified key features and patterns in plant images that correlate with specific diseases through various visualization techniques and statistical analysis.
Image Augmentation:

Applied augmentation techniques such as rotation, flipping, and scaling to increase the dataset size and improve the model's ability to generalize to unseen data.
Analyzed the effects of different augmentation strategies on the model's performance and robustness, ensuring reliable disease classification.
Modeling:

Implemented deep learning models such as CNN, ResNet, and VGG for accurate disease classification in plants, considering the complex patterns and features present in the images.
Evaluated model performance using metrics such as precision, recall, and F1-score to assess the model's ability to correctly identify and classify plant diseases.
Model Evaluation and Enhancement:

Tested the models on unseen data to evaluate their generalization capabilities and fine-tuned the models for improved precision and recall rates.
Explored different techniques such as dropout, batch normalization, and learning rate scheduling to enhance the model's performance and prevent overfitting.
Model Deployment and Maintenance:

Deployed the most accurate model for plant disease classification to provide real-time identification and recommendations for plant health management.
Established a framework for continuous model monitoring and periodic updates to adapt to new disease patterns and variations in plant health.
Explanations:
Data Preprocessing (🔍): The preprocessing phase significantly improved the dataset's quality and facilitated more accurate and reliable predictions from the models.
Image Augmentation (🎯): By employing various augmentation techniques, the model's ability to generalize to unseen data improved, resulting in better disease classification performance.
Model Selection (📊): Testing and selecting the most suitable model architecture enhanced the overall accuracy and efficiency of disease classification in plants.
Hyperparameter Tuning (⚙️): Fine-tuning the model's parameters allowed for better performance, resulting in higher precision and recall rates for disease classification.
Transfer Learning (🧠): Leveraging pre-trained models for feature extraction expedited the learning process and enabled the model to perform effectively with limited training data.
Technologies Used:
Python (Pandas, NumPy, Matplotlib, Seaborn)
Deep Learning Libraries (Keras, TensorFlow)
Image Processing Libraries (OpenCV)
Jupyter Notebooks for Analysis and Visualization
Google Colab for Model Training and Evaluation
The successful implementation of the Plant Health Monitoring project has significant implications for early disease detection and effective plant health management, contributing to sustainable agriculture and food security.

EDA
Install and import necessary libraries
# Import necessary libraries
import os 
import cv2
import math
import tensorflow as tf
import numpy as np
import scipy as sp
import pandas as pd
from matplotlib import pyplot as plt
import matplotlib.image as mpimg
from tqdm import tqdm
import plotly.express as px

from skimage import io, transform
from skimage.util import random_noise

from sklearn.metrics import precision_score, recall_score
from sklearn.metrics import f1_score
from sklearn.metrics import roc_auc_score

from sklearn.model_selection import train_test_split
from sklearn.preprocessing import LabelEncoder


from tensorflow.keras.applications import MobileNetV2
from tensorflow.keras.layers import Dense, Conv2D, MaxPooling2D, Flatten, Dropout
from tensorflow.keras.models import Model
from tensorflow.keras.optimizers import Adam
from tensorflow.keras.preprocessing.image import ImageDataGenerator
from tensorflow.keras.preprocessing.image import img_to_array
from tensorflow.keras.preprocessing.image import load_img
from tensorflow.keras.utils import to_categorical
Load the data and define hyperparameters
EPOCHS = 20
SAMPLE_LEN = 100
# Load the dataset
train_data = pd.read_csv('data/train.csv')
test_data = pd.read_csv("data/test.csv")
submission_data = pd.read_csv("data/sample_submission.csv")
image_directory = "data/images/"
print('Train Dataset:')
train_data.head()
Train Dataset:
image_id	healthy	multiple_diseases	rust	scab
0	Train_0	0	0	0	1
1	Train_1	0	1	0	0
2	Train_2	1	0	0	0
3	Train_3	0	0	1	0
4	Train_4	1	0	0	0
print('\nTest Dataset:')
test_data.head()
Test Dataset:
image_id
0	Test_0
1	Test_1
2	Test_2
3	Test_3
4	Test_4
print('\nSubmission Dataset:')
submission_data.head()
Submission Dataset:
image_id	healthy	multiple_diseases	rust	scab
0	Test_0	0.25	0.25	0.25	0.25
1	Test_1	0.25	0.25	0.25	0.25
2	Test_2	0.25	0.25	0.25	0.25
3	Test_3	0.25	0.25	0.25	0.25
4	Test_4	0.25	0.25	0.25	0.25
# Listing image files
image_files = os.listdir(image_directory)
Visualize one leaf
# plotting multiple images using subplots
fig, ax = plt.subplots(nrows=2, ncols=3, figsize=(30, 16))
for i in range(6):
    image_path = os.path.join(image_directory, image_files[i])
    image = cv2.imread(image_path)
    resized_image = cv2.resize(image, (205, 136))
    ax[i // 3, i % 3].imshow(resized_image)
    ax[i // 3, i % 3].set_xticks([])
    ax[i // 3, i % 3].set_yticks([])

plt.show()

Load sample images
# Define the function to load an image
def load_image(image_id):
    file_path = os.path.join(image_directory, image_id + ".jpg")
    image = cv2.imread(file_path)
    return cv2.cvtColor(image, cv2.COLOR_BGR2RGB)

# Apply the load_image function to the train data
SAMPLE_LEN = 5  # Define the sample length as needed
train_images = []
for image_id in tqdm(train_data["image_id"][:SAMPLE_LEN]):
    train_images.append(load_image(image_id))
100%|██████████| 5/5 [00:00<00:00, 26.01it/s]
Channel distributions
# Calculate channel distributions for the first image
image = train_images[0]
red_channel = image[:,:,0].ravel()
green_channel = image[:,:,1].ravel()
blue_channel = image[:,:,2].ravel()
# Plot the channel distributions
fig, axs = plt.subplots(1, 3, figsize=(15, 5))
fig.suptitle('Channel Distributions', fontsize=16)

axs[0].hist(red_channel, bins=256, color='red', alpha=0.7)
axs[0].set_title('Red Channel')

axs[1].hist(green_channel, bins=256, color='green', alpha=0.7)
axs[1].set_title('Green Channel')

axs[2].hist(blue_channel, bins=256, color='blue', alpha=0.7)
axs[2].set_title('Blue Channel')

plt.show()

All channel values
# Extract all channel values for the first image
all_channels = train_images[0].reshape(-1, 3)
# Display the shape and values
print(f"Shape of all channels: {all_channels.shape}")
print(f"First 5 rows of all channels:\n{all_channels[:5]}")
Shape of all channels: (2795520, 3)
First 5 rows of all channels:
[[33 51 13]
 [33 51 13]
 [33 51 13]
 [34 52 14]
 [34 52 14]]
# Visualize the distributions of all channels
fig, axs = plt.subplots(1, 3, figsize=(15, 5))
fig.suptitle('All Channel Distributions', fontsize=16)

axs[0].hist(all_channels[:, 0], bins=50, color='red', alpha=0.7)
axs[0].set_title('Red Channel')

axs[1].hist(all_channels[:, 1], bins=50, color='green', alpha=0.7)
axs[1].set_title('Green Channel')

axs[2].hist(all_channels[:, 2], bins=50, color='blue', alpha=0.7)
axs[2].set_title('Blue Channel')

plt.show()

Red channel values
# Extract red channel values for the first image
red_channel_values = train_images[0][:, :, 0].ravel()
# Display the shape and values
print(f"Shape of red channel values: {red_channel_values.shape}")
print(f"First 5 red channel values: {red_channel_values[:5]}")
Shape of red channel values: (2795520,)
First 5 red channel values: [33 33 33 34 34]
# Visualize the distribution of red channel values
plt.figure(figsize=(8, 6))
plt.hist(red_channel_values, bins=50, color='red', alpha=0.7)
plt.title('Red Channel Values Distribution')
plt.xlabel('Pixel Intensity')
plt.ylabel('Frequency')
plt.show()

Green channel values
# Extract green channel values for the first image
green_channel_values = train_images[0][:, :, 1].ravel()
# Print the shape and values of green channel values
print(f"Shape of green channel values: {green_channel_values.shape}")
print(f"First 5 green channel values: {green_channel_values[:5]}")
Shape of green channel values: (2795520,)
First 5 green channel values: [51 51 51 52 52]
# Visualize the distribution of green channel values
plt.figure(figsize=(8, 6))
plt.hist(green_channel_values, bins=50, color='green', alpha=0.7)
plt.title('Green Channel Values Distribution')
plt.xlabel('Pixel Intensity')
plt.ylabel('Frequency')
plt.show()

Blue channel values
# Extract blue channel values for the first image
blue_channel_values = train_images[0][:, :, 2].ravel()
# Print the shape and values of blue channel values
print(f"Shape of blue channel values: {blue_channel_values.shape}")
print(f"First 5 blue channel values: {blue_channel_values[:5]}")
Shape of blue channel values: (2795520,)
First 5 blue channel values: [13 13 13 14 14]
# Visualize the distribution of blue channel values
plt.figure(figsize=(8, 6))
plt.hist(blue_channel_values, bins=50, color='blue', alpha=0.7)
plt.title('Blue Channel Values Distribution')
plt.xlabel('Pixel Intensity')
plt.ylabel('Frequency')
plt.show()

All channel values (together)
# Extract all channel values for the first image
all_channels_together = train_images[0].reshape(-1, 3)
# Visualize the distributions of all channels together
fig, axs = plt.subplots(1, 3, figsize=(15, 5))
fig.suptitle('All Channel Values Distribution', fontsize=16)

axs[0].hist(all_channels_together[:, 0], bins=50, color='red', alpha=0.7)
axs[0].set_title('Red Channel')

axs[1].hist(all_channels_together[:, 1], bins=50, color='green', alpha=0.7)
axs[1].set_title('Green Channel')

axs[2].hist(all_channels_together[:, 2], bins=50, color='blue', alpha=0.7)
axs[2].set_title('Blue Channel')

plt.show()

Visualize sample leaves
# Define the categories
categories = ['healthy', 'multiple_diseases', 'rust', 'scab']
# Calculate the ratios for each category
ratios = [train_data[category].sum() / len(train_data) for category in categories]
def visualize_leaves(data, condition, condition_col, n_samples=3, figsize=(20, 5), title_fontsize=16, text_fontsize=12, metrics=None):
    fig, axs = plt.subplots(1, n_samples, figsize=figsize)
    fig.suptitle(f"Sample Leaves with {condition_col}", fontsize=title_fontsize)

    data_subset = data[data[condition] == 1].sample(n_samples)
    for i, row in enumerate(data_subset.iterrows()):
        image = cv2.imread(os.path.join(image_directory, row[1]["image_id"] + ".jpg"))
        image = cv2.cvtColor(image, cv2.COLOR_BGR2RGB)
        axs[i].imshow(image)
        axs[i].set_title(f"{row[1]['image_id']}\n({condition_col}: {row[1][condition]})", fontsize=text_fontsize)
        axs[i].axis("off")

        if metrics is not None:
            for j, metric in enumerate(metrics):
                try:
                    metric_value = row[1][metric]
                except KeyError:
                    metric_value = "N/A"
                axs[i].text(0.5, -0.15 - 0.2 * j, f"{metric}: {metric_value}", fontsize=text_fontsize, ha='center', transform=axs[i].transAxes)

    plt.show()

# Healthy leaves
metrics = ["metric1", "metric2", "metric3"]  # Replace with your actual metric names
visualize_leaves(train_data, "healthy", "Healthy Leaves", n_samples=3, figsize=(20, 8), title_fontsize=20, text_fontsize=14, metrics=metrics)

Visualizations for Data Distribution
def visualize_data_distribution(data, columns, figsize=(10, 6)):
    fig, axs = plt.subplots(1, len(columns), figsize=figsize)
    fig.suptitle("Data Distribution Visualization", fontsize=16)
    for i, col in enumerate(columns):
        axs[i].hist(data[col], bins=30, alpha=0.7)
        axs[i].set_title(col)
        axs[i].set_xlabel("Value")
        axs[i].set_ylabel("Frequency")
    plt.show()
# Example usage
columns_to_visualize = ['image_id', 'healthy', 'multiple_diseases', 'rust', 'scab']  # Replace with actual column names
visualize_data_distribution(train_data, columns_to_visualize)

%matplotlib inline

# Checking Class Balance
def check_class_balance(data, target_col):
    class_counts = data[target_col].value_counts()
    class_labels = class_counts.index
    plt.bar(class_labels, class_counts)
    plt.title("Class Balance Check")
    plt.xlabel("Classes")
    plt.ylabel("Count")
    plt.show()
# Example usage
check_class_balance(train_data, 'rust')  # Replace 'rust' with the appropriate target variable column name

# Missing Data Analysis
def analyze_missing_data(data):
    missing_values = data.isnull().sum()
    missing_values.plot(kind='bar', figsize=(10, 6))
    plt.title("Missing Data Analysis")
    plt.xlabel("Features")
    plt.ylabel("Count of Missing Values")
    plt.show()
# Analyzing Image Features
def analyze_image_features(image):
    print(f"Image shape: {image.shape}")
    print(f"Minimum pixel value: {np.min(image)}")
    print(f"Maximum pixel value: {np.max(image)}")
    print(f"Mean pixel value: {np.mean(image)}")
    print(f"Standard deviation of pixel values: {np.std(image)}")
# Example usage
sample_image = train_images[0]
analyze_image_features(sample_image)
Image shape: (1365, 2048, 3)
Minimum pixel value: 0
Maximum pixel value: 255
Mean pixel value: 96.78047626201923
Standard deviation of pixel values: 53.09830724968714
train_data.isnull().sum()
image_id             0
healthy              0
multiple_diseases    0
rust                 0
scab                 0
dtype: int64
test_data.isnull().sum()
image_id    0
dtype: int64
Coloured images
red_filter = [1, 0,0]
# blue filter
blue_filter = [0,0,1]
# green filter
green_filter = [0,1,0]


# matplotlib code to display
fig,ax = plt.subplots(nrows=1,ncols=3,figsize=(30,16))
ax[0].imshow(image*red_filter)
ax[0].set_title("Red Filter",fontweight="bold", size=30)
ax[1].imshow(image*blue_filter)
ax[1].set_title("Blue Filter",fontweight="bold", size=30)
ax[2].imshow(image*green_filter)
ax[2].set_title("Green Filter",fontweight="bold", size=30)
Text(0.5, 1.0, 'Green Filter')

Flipping with skimage
#Horizontally flipped
hflipped_image= np.fliplr(image) 
#Vertically flipped
vflipped_image= np.flipud(image) 
fig,ax = plt.subplots(nrows=1,ncols=3,figsize=(30,16))
ax[0].imshow(image)
ax[0].set_title("Original Image", size=30)
ax[1].imshow(hflipped_image)
ax[1].set_title("Horizontally flipped", size=30)
ax[2].imshow(vflipped_image)
ax[2].set_title("Vertically flipped", size=30);

Rotation with skimage
# clockwise rotation
rotated_image = transform.rotate(image, angle=30)
plt.subplot(1, 2, 1)
plt.imshow(image)
plt.title("Original Image")

plt.subplot(1, 2, 2)
plt.imshow(rotated_image)
plt.title("Rotated Image")

plt.show()

Cropping with skimage
# Get the dimensions of the image
height, width, _ = image.shape
# Define coordinates for the cropping operation
x_start, y_start = int(width * 0.25), int(height * 0.25)
x_end, y_end = int(width * 0.75), int(height * 0.75)
# Crop the image at the specified coordinates
cropped_image = image[y_start:y_end, x_start:x_end]
# Plot the original image
plt.subplot(1, 2, 1)
plt.imshow(image)
plt.title("Original Image")

# Plot the cropped image
plt.subplot(1, 2, 2)
plt.imshow(cropped_image)
plt.title("Cropped Image")

plt.show()

Brightness Manipulation
from skimage import exposure
import skimage.io as skio
# Increase the brightness of the image
brightened_image = exposure.adjust_gamma(image, gamma=1.5)
# Decrease the brightness of the image
darkened_image = exposure.adjust_gamma(image, gamma=0.5)
# Plot the original, brightened, and darkened images
fig, axs = plt.subplots(1, 3, figsize=(15, 5))

axs[0].imshow(image)
axs[0].set_title('Original Image')

axs[1].imshow(brightened_image)
axs[1].set_title('Brightened Image')

axs[2].imshow(darkened_image)
axs[2].set_title('Darkened Image')

plt.show()

Noise Addition with skimage
image = cv2.imread(image_path)
image = cv2.cvtColor(image, cv2.COLOR_BGR2RGB)
# Add noise to the image
noisy_image = random_noise(image, clip=True)
# Display the original and noisy images
fig, axs = plt.subplots(1, 2, figsize=(12, 6))
axs[0].imshow(image)
axs[0].set_title('Original Image')
axs[1].imshow(noisy_image)
axs[1].set_title('Noisy Image')
plt.show()

Data Augmentation using OpenCV-Python
# Display the original image
plt.imshow(image)
plt.title('Original Image')
plt.show()

# Data Augmentation using OpenCV-Python
# 1. Rotation
rows, cols, _ = image.shape
M = cv2.getRotationMatrix2D((cols / 2, rows / 2), 30, 1)
rotated_image = cv2.warpAffine(image, M, (cols, rows))
# 2. Cropping
cropped_image = image[50:300, 120:400]
# 3. Brightness manipulation
bright_image = cv2.convertScaleAbs(image, alpha=1.2, beta=50)
# 4. Scaling
scaled_image = cv2.resize(image, None, fx=1.5, fy=1.5, interpolation=cv2.INTER_LINEAR)
# Display the augmented images
fig, axs = plt.subplots(2, 2, figsize=(10, 10))
axs[0, 0].imshow(rotated_image)
axs[0, 0].set_title('Rotated Image')
axs[0, 1].imshow(cropped_image)
axs[0, 1].set_title('Cropped Image')
axs[1, 0].imshow(bright_image)
axs[1, 0].set_title('Bright Image')
axs[1, 1].imshow(scaled_image)
axs[1, 1].set_title('Scaled Image')
plt.show()

Data Augmentation using imgaug
import imgaug as ia
from imgaug import augmenters as iaa
image = cv2.imread(image_path)
image = cv2.cvtColor(image, cv2.COLOR_BGR2RGB)
# Display the original image
plt.imshow(image)
plt.title('Original Image')
plt.show()

# Data Augmentation using imgaug
seq = iaa.Sequential([
    iaa.Affine(rotate=(-30, 30)),
    iaa.Crop(percent=(0, 0.2)),
    iaa.Multiply((1.2, 1.5)),
    iaa.GaussianBlur(sigma=(0, 3.0))
])
# Augment the image
image_aug = seq(image=image)
# Display the augmented image
plt.imshow(image_aug)
plt.title('Augmented Image')
plt.show()

image_index = min(25, len(train_images) - 1)
image = train_images[image_index]
plt.imshow(image)
print(image.shape)
plt.axis('off')
plt.show()
(1365, 2048, 3)

MODEL STAGE
from tensorflow.keras.models import Sequential
# Creating the model
model = Sequential()
# Adding CNN layers
model.add(Conv2D(32, (3, 3), activation='relu', input_shape=(256, 256, 3)))
model.add(MaxPooling2D((2, 2)))
model.add(Conv2D(64, (3, 3), activation='relu'))
model.add(MaxPooling2D((2, 2)))
model.add(Conv2D(128, (3, 3), activation='relu'))
model.add(MaxPooling2D((2, 2)))
model.add(Flatten())
# Adding fully connected layers
model.add(Dense(64, activation='relu'))
model.add(Dropout(0.5))
model.add(Dense(4, activation='softmax'))
# Compiling the model
model.compile(optimizer='adam',
              loss='categorical_crossentropy',
              metrics=['accuracy'])
# Model summary
model.summary()
Model: "sequential"
_________________________________________________________________
 Layer (type)                Output Shape              Param #   
=================================================================
 conv2d (Conv2D)             (None, 254, 254, 32)      896       
                                                                 
 max_pooling2d (MaxPooling2  (None, 127, 127, 32)      0         
 D)                                                              
                                                                 
 conv2d_1 (Conv2D)           (None, 125, 125, 64)      18496     
                                                                 
 max_pooling2d_1 (MaxPoolin  (None, 62, 62, 64)        0         
 g2D)                                                            
                                                                 
 conv2d_2 (Conv2D)           (None, 60, 60, 128)       73856     
                                                                 
 max_pooling2d_2 (MaxPoolin  (None, 30, 30, 128)       0         
 g2D)                                                            
                                                                 
 flatten (Flatten)           (None, 115200)            0         
                                                                 
 dense (Dense)               (None, 64)                7372864   
                                                                 
 dropout (Dropout)           (None, 64)                0         
                                                                 
 dense_1 (Dense)             (None, 4)                 260       
                                                                 
=================================================================
Total params: 7466372 (28.48 MB)
Trainable params: 7466372 (28.48 MB)
Non-trainable params: 0 (0.00 Byte)
_________________________________________________________________
Assuming 'test_images' is a list of images you want to test
# Assuming 'test_data' is the DataFrame containing image IDs from the test dataset
test_image_ids = test_data['image_id'].tolist()
# Assuming 'image_directory' is the path to the directory containing test images
test_images = []
for image_id in test_image_ids:
    image_path = os.path.join(image_directory, image_id + ".jpg")
    image = cv2.imread(image_path)
    image = cv2.resize(image, (256, 256))  # Resize the image to the required input shape
    test_images.append(image)
# Convert the list of images to a NumPy array
test_images = np.array(test_images)
# Normalize the pixel values to the range [0, 1]
test_images = test_images / 255.0
# Make predictions
predictions = model.predict(test_images)
57/57 [==============================] - 16s 268ms/step
# Mapping the prediction labels to actual classes
label_map = {0: 'healthy', 1: 'multiple_diseases', 2: 'rust', 3: 'scab'}
import random
import matplotlib.pyplot as plt
# Define a function to process images
def process_images(image_path):
    img = cv2.imread(image_path)
    img = cv2.cvtColor(img, cv2.COLOR_BGR2RGB)

    # Apply image processing operations here
    gray = cv2.cvtColor(img, cv2.COLOR_BGR2GRAY)
    edges = cv2.Canny(gray, 100, 200)
    blurred = cv2.GaussianBlur(gray, (5, 5), 0)

    # Display the processed images
    fig, axs = plt.subplots(1, 3, figsize=(12, 4))
    axs[0].imshow(edges, cmap='gray')
    axs[0].set_title('Edges')
    axs[1].imshow(blurred, cmap='gray')
    axs[1].set_title('Blurred Image')
    axs[2].imshow(img)
    axs[2].set_title('Original Image')
    plt.show()
# Process some example images
image_files = os.listdir(image_directory)
for i in range(min(5, len(image_files))):
    image_path = os.path.join(image_directory, image_files[i])
    process_images(image_path)





# Define a function to detect harmful patterns
def detect_harmful_patterns(image_path):
    img = cv2.imread(image_path)
    img = cv2.cvtColor(img, cv2.COLOR_BGR2RGB)

    # Convert image to grayscale and apply thresholding
    gray = cv2.cvtColor(img, cv2.COLOR_BGR2GRAY)
    _, thresh = cv2.threshold(gray, 100, 255, cv2.THRESH_BINARY_INV)

    # Find contours and draw them on the original image
    contours, _ = cv2.findContours(thresh, cv2.RETR_EXTERNAL, cv2.CHAIN_APPROX_SIMPLE)
    cv2.drawContours(img, contours, -1, (0, 0, 255), 2)

    # Display the processed images
    fig, axs = plt.subplots(1, 2, figsize=(10, 5))
    axs[0].imshow(thresh, cmap='gray')
    axs[0].set_title('Thresholded Image')
    axs[1].imshow(img)
    axs[1].set_title('Detected Patterns')
    plt.show()
# Process some example images
image_files = os.listdir(image_directory)
for i in range(min(5, len(image_files))):
    image_path = os.path.join(image_directory, image_files[i])
    detect_harmful_patterns(image_path)





# Define a function to detect harmful patterns
def detect_harmful_patterns(image_path):
    img = cv2.imread(image_path)
    img = cv2.cvtColor(img, cv2.COLOR_BGR2RGB)

    # Convert image to grayscale and apply thresholding
    gray = cv2.cvtColor(img, cv2.COLOR_BGR2GRAY)
    _, thresh = cv2.threshold(gray, 100, 255, cv2.THRESH_BINARY_INV)

    # Find contours
    contours, _ = cv2.findContours(thresh, cv2.RETR_EXTERNAL, cv2.CHAIN_APPROX_SIMPLE)

    # Create a mask and draw contours on it
    mask = np.zeros_like(img)
    cv2.drawContours(mask, contours, -1, (255, 255, 255), thickness=cv2.FILLED)

    # Create a result image by blending the original image with the mask
    result = cv2.addWeighted(img, 1, mask, 0.5, 0)

    # Display the processed image
    fig, axs = plt.subplots(1, 2, figsize=(10, 5))
    axs[0].imshow(mask, cmap='gray')
    axs[0].set_title('Detected Regions')
    axs[1].imshow(result)
    axs[1].set_title('Highlighted Patterns')
    plt.show()
# Process some example images
image_files = os.listdir(image_directory)
for i in range(min(5, len(image_files))):
    image_path = os.path.join(image_directory, image_files[i])
    detect_harmful_patterns(image_path)





Histograms
Healty İmage
# Read the image
img_path = "data/images/Train_1803.jpg"
img = cv2.imread(img_path)
# Plot the histogram for the image
plt.figure(figsize=(12, 6))
plt.subplot(1, 2, 1)
plt.imshow(cv2.cvtColor(img, cv2.COLOR_BGR2RGB))
plt.title('Healty Image')
plt.axis('off')

plt.subplot(1, 2, 2)
colors = ('b', 'g', 'r')
for i, col in enumerate(colors):
    hist = cv2.calcHist([img], [i], None, [256], [0, 256])
    plt.plot(hist, color=col)
    plt.xlim([0, 256])
plt.title('Histogram of Healty Image')
plt.xlabel('Pixel Values')
plt.ylabel('Frequency')
Text(0, 0.5, 'Frequency')

Rust İmage
# Read the image
img_path = "data/images/Test_8.jpg"
img = cv2.imread(img_path)
# Plot the histogram for the image
plt.figure(figsize=(12, 6))
plt.subplot(1, 2, 1)
plt.imshow(cv2.cvtColor(img, cv2.COLOR_BGR2RGB))
plt.title('Rust Image')
plt.axis('off')

plt.subplot(1, 2, 2)
colors = ('b', 'g', 'r')
for i, col in enumerate(colors):
    hist = cv2.calcHist([img], [i], None, [256], [0, 256])
    plt.plot(hist, color=col)
    plt.xlim([0, 256])
plt.title('Histogram of Rust Image')
plt.xlabel('Pixel Values')
plt.ylabel('Frequency')
Text(0, 0.5, 'Frequency')

Scab İmage
# Read the image
img_path = "data/images/Test_1.jpg"
img = cv2.imread(img_path)
# Plot the histogram for the image
plt.figure(figsize=(12, 6))
plt.subplot(1, 2, 1)
plt.imshow(cv2.cvtColor(img, cv2.COLOR_BGR2RGB))
plt.title('Scab Image')
plt.axis('off')

plt.subplot(1, 2, 2)
colors = ('b', 'g', 'r')
for i, col in enumerate(colors):
    hist = cv2.calcHist([img], [i], None, [256], [0, 256])
    plt.plot(hist, color=col)
    plt.xlim([0, 256])
plt.title('Histogram of Scab Image')
plt.xlabel('Pixel Values')
plt.ylabel('Frequency')
Text(0, 0.5, 'Frequency')
